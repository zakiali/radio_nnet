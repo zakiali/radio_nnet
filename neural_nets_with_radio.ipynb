{
 "cells": [
  {
   "cell_type": "markdown",
   "metadata": {},
   "source": [
    "## Deep Learning with Radio Ineterferometers"
   ]
  },
  {
   "cell_type": "markdown",
   "metadata": {},
   "source": [
    "In this notebook, we are trying to use radio visibilities and neural networks to predict if an antenna will be good or bad. "
   ]
  },
  {
   "cell_type": "code",
   "execution_count": 13,
   "metadata": {
    "collapsed": false
   },
   "outputs": [],
   "source": [
    "import numpy as np\n",
    "import glob\n",
    "%matplotlib inline\n",
    "import matplotlib.pyplot as plt"
   ]
  },
  {
   "cell_type": "code",
   "execution_count": 14,
   "metadata": {
    "collapsed": false
   },
   "outputs": [],
   "source": [
    "# Get all the features in a condensed form.\n",
    "# d1 = np.loadtxt('data/stats_1e2.txt')\n",
    "# ants = d1[:,0]#antenna numbers\n",
    "# f1 = d1[:,-1]#standard devs of solved delays\n",
    "# m,v,f = capo.miriad.read_files(['zen.2456679.43314.xx.uvcRRE'],'auto','xx',verbose=True)\n",
    "# bad_antennae = [8,14,15,16,26,27,28,34,37,38,42,46,50,53,72,74,82,84,85,110]\n",
    "\n",
    "# feature_dict = {}\n",
    "# times = m['times']\n",
    "# for a,ff in zip(ants,f1):\n",
    "#    ant_flag = 1\n",
    "#    if a in bad_antennae: \n",
    "#        print 'flagging: ',a \n",
    "#        ant_flag = 0\n",
    "#    for samp,tsample in enumerate(times):\n",
    "#     feature_dict[a] = [np.hstack((ff,np.real(v[(a,a)]['xx'][time]),ant_flag))]\n",
    "#        feature_dict[str(a) + str(tsample)] =list(np.hstack((np.real(v[(a,a)]['xx'][samp]),ant_flag)))"
   ]
  },
  {
   "cell_type": "code",
   "execution_count": 15,
   "metadata": {
    "collapsed": false
   },
   "outputs": [],
   "source": [
    "pos_sample_dir = 'data/good'\n",
    "neg_sample_dir = 'data/bad'\n",
    "pos_sample_files = [np.load(f) for f in glob.glob(pos_sample_dir+'/*data.npz')]\n",
    "neg_sample_files = [np.load(f) for f in glob.glob(neg_sample_dir+'/*data.npz')]\n",
    "\n",
    "pos_sample_files2 = [np.load(f) for f in glob.glob(pos_sample_dir+'2/*.npz')]\n",
    "neg_sample_files2 = [np.load(f) for f in glob.glob(neg_sample_dir+'2/*.npz')]\n",
    "\n",
    "\n",
    "\n",
    "pos_samples = np.concatenate([d['arr_0'] for d in pos_sample_files])\n",
    "neg_samples = np.concatenate([d['arr_0'] for d in neg_sample_files])\n",
    "pos_samples2 = np.concatenate([d['arr_0'] for d in pos_sample_files2])\n",
    "neg_samples2 = np.concatenate([d['arr_0'] for d in neg_sample_files2])"
   ]
  },
  {
   "cell_type": "code",
   "execution_count": 28,
   "metadata": {
    "collapsed": false
   },
   "outputs": [],
   "source": [
    "Y = np.concatenate([np.ones(pos_samples.shape[0]),np.ones(neg_samples.shape[0])])\n",
    "X = np.concatenate([pos_samples,neg_samples])\n",
    "xshape = X.shape\n",
    "X = X.reshape(xshape[0],1,xshape[1],xshape[2])\n",
    "X.shape\n",
    "#shuffle\n",
    "samps = np.arange(X.shape[0])\n",
    "np.random.shuffle(samps)\n",
    "X = X[samps]\n",
    "Y = Y[samps]\n",
    "Xtrain = X[:len(samps)/3]; ytrain = Y[:len(samps)/3]\n",
    "Xtest = X[len(samps)/3:]; ytest = Y[len(samps)/3:]"
   ]
  },
  {
   "cell_type": "code",
   "execution_count": 30,
   "metadata": {
    "collapsed": false
   },
   "outputs": [
    {
     "name": "stdout",
     "output_type": "stream",
     "text": [
      "Xtrain shape: (50560, 1, 40, 40)\n",
      "50560 train samples\n",
      "101120 test samples\n",
      "Not using data augmentation.\n",
      "Train on 50560 samples, validate on 101120 samples\n",
      "Epoch 1/1\n",
      "50560/50560 [==============================] - 2345s - loss: 5.6823e-04 - acc: 0.9997 - val_loss: 1.1921e-07 - val_acc: 1.0000\n"
     ]
    }
   ],
   "source": [
    "'''Train a simple deep CNN on the CIFAR10 small images dataset.\n",
    "GPU run command:\n",
    "    THEANO_FLAGS=mode=FAST_RUN,device=gpu,floatX=float32 python cifar10_cnn.py\n",
    "It gets down to 0.65 test logloss in 25 epochs, and down to 0.55 after 50 epochs.\n",
    "(it's still underfitting at that point, though).\n",
    "Note: the data was pickled with Python 2, and some encoding issues might prevent you\n",
    "from loading it in Python 3. You might have to load it in Python 2,\n",
    "save it in a different format, load it in Python 3 and repickle it.\n",
    "'''\n",
    "\n",
    "from __future__ import print_function\n",
    "from keras.datasets import cifar10\n",
    "from keras.preprocessing.image import ImageDataGenerator\n",
    "from keras.models import Sequential\n",
    "from keras.layers import Dense, Dropout, Activation, Flatten\n",
    "from keras.layers import Convolution2D, MaxPooling2D\n",
    "from keras.optimizers import SGD\n",
    "from keras.utils import np_utils\n",
    "\n",
    "batch_size = 32\n",
    "nb_classes = 2\n",
    "nb_epoch = 1\n",
    "data_augmentation = False#True\n",
    "\n",
    "# input image dimensions\n",
    "img_rows, img_cols = 40, 40\n",
    "# the CIFAR10 images are RGB\n",
    "img_channels = 1\n",
    "\n",
    "# the data, shuffled and split between train and test sets\n",
    "print('Xtrain shape:', Xtrain.shape)\n",
    "print(Xtrain.shape[0], 'train samples')\n",
    "print(Xtest.shape[0], 'test samples')\n",
    "\n",
    "# convert class vectors to binary class matrices\n",
    "Ytrain = np_utils.to_categorical(ytrain, nb_classes)\n",
    "Ytest = np_utils.to_categorical(ytest, nb_classes)\n",
    "\n",
    "model = Sequential()\n",
    "\n",
    "model.add(Convolution2D(32, 3, 3, border_mode='same',\n",
    "                        input_shape=(img_channels, img_rows, img_cols)))\n",
    "model.add(Activation('relu'))\n",
    "model.add(Convolution2D(32, 3, 3))\n",
    "model.add(Activation('relu'))\n",
    "model.add(MaxPooling2D(pool_size=(2, 2)))\n",
    "model.add(Dropout(0.25))\n",
    "\n",
    "model.add(Convolution2D(64, 3, 3, border_mode='same'))\n",
    "model.add(Activation('relu'))\n",
    "model.add(Convolution2D(64, 3, 3))\n",
    "model.add(Activation('relu'))\n",
    "model.add(MaxPooling2D(pool_size=(2, 2)))\n",
    "model.add(Dropout(0.25))\n",
    "\n",
    "model.add(Flatten())\n",
    "model.add(Dense(512))\n",
    "model.add(Activation('relu'))\n",
    "model.add(Dropout(0.5))\n",
    "model.add(Dense(nb_classes))\n",
    "model.add(Activation('softmax'))\n",
    "\n",
    "# let's train the model using SGD + momentum (how original).\n",
    "sgd = SGD(lr=0.01, decay=1e-6, momentum=0.9, nesterov=True)\n",
    "model.compile(loss='categorical_crossentropy',\n",
    "              optimizer=sgd,\n",
    "              metrics=['accuracy'])\n",
    "\n",
    "Xtrain = Xtrain.astype('float32')\n",
    "Xtest = Xtest.astype('float32')\n",
    "\n",
    "if not data_augmentation:\n",
    "    print('Not using data augmentation.')\n",
    "    model.fit(Xtrain, Ytrain,\n",
    "              batch_size=batch_size,\n",
    "              nb_epoch=nb_epoch,\n",
    "              validation_data=(Xtest, Ytest),\n",
    "              shuffle=True)\n",
    "else:\n",
    "    print('Using real-time data augmentation.')\n",
    "\n",
    "    # this will do preprocessing and realtime data augmentation\n",
    "    datagen = ImageDataGenerator(\n",
    "        featurewise_center=False,  # set input mean to 0 over the dataset\n",
    "        samplewise_center=False,  # set each sample mean to 0\n",
    "        featurewise_std_normalization=False,  # divide inputs by std of the dataset\n",
    "        samplewise_std_normalization=False,  # divide each input by its std\n",
    "        zca_whitening=False,  # apply ZCA whitening\n",
    "        rotation_range=0,  # randomly rotate images in the range (degrees, 0 to 180)\n",
    "        width_shift_range=0.1,  # randomly shift images horizontally (fraction of total width)\n",
    "        height_shift_range=0.1,  # randomly shift images vertically (fraction of total height)\n",
    "        horizontal_flip=True,  # randomly flip images\n",
    "        vertical_flip=False)  # randomly flip images\n",
    "\n",
    "    # compute quantities required for featurewise normalization\n",
    "    # (std, mean, and principal components if ZCA whitening is applied)\n",
    "    datagen.fit(Xtrain)\n",
    "\n",
    "    # fit the model on the batches generated by datagen.flow()\n",
    "    model.fit_generator(datagen.flow(Xtrain, Ytrain,\n",
    "                        batch_size=batch_size),\n",
    "                        samples_per_epoch=Xtrain.shape[0],\n",
    "                        nb_epoch=nb_epoch,\n",
    "                        validation_data=(Xtest, Ytest))"
   ]
  },
  {
   "cell_type": "code",
   "execution_count": null,
   "metadata": {
    "collapsed": true
   },
   "outputs": [],
   "source": []
  }
 ],
 "metadata": {
  "kernelspec": {
   "display_name": "Python 2",
   "language": "python",
   "name": "python2"
  },
  "language_info": {
   "codemirror_mode": {
    "name": "ipython",
    "version": 2
   },
   "file_extension": ".py",
   "mimetype": "text/x-python",
   "name": "python",
   "nbconvert_exporter": "python",
   "pygments_lexer": "ipython2",
   "version": "2.7.11"
  }
 },
 "nbformat": 4,
 "nbformat_minor": 0
}
